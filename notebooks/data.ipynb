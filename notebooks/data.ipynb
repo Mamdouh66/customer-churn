{
 "cells": [
  {
   "cell_type": "code",
   "execution_count": 1,
   "metadata": {},
   "outputs": [],
   "source": [
    "import numpy as np\n",
    "import polars as pl\n",
    "import matplotlib.pyplot as plt\n",
    "import seaborn as sns\n",
    "\n",
    "from rich import print"
   ]
  },
  {
   "cell_type": "code",
   "execution_count": 2,
   "metadata": {},
   "outputs": [],
   "source": [
    "plt.style.use(\"seaborn-v0_8\")"
   ]
  },
  {
   "cell_type": "code",
   "execution_count": 28,
   "metadata": {},
   "outputs": [],
   "source": [
    "data_schema = {\n",
    "    \"CustomerID\": pl.Int32,\n",
    "    \"Age\": pl.Int32,\n",
    "    \"Gender\": pl.String,\n",
    "    \"Tenure\": pl.Int32,\n",
    "    \"Usage Frequency\": pl.Int32,\n",
    "    \"Support Calls\": pl.Int32,\n",
    "    \"Payment Delay\": pl.Int32,\n",
    "    \"Subscription Type\": pl.String,\n",
    "    \"Contract Length\": pl.String,\n",
    "    \"Total Spend\": pl.Float32,\n",
    "    \"Last Interaction\": pl.Int32,\n",
    "    \"Churn\": pl.Int32,\n",
    "}"
   ]
  },
  {
   "cell_type": "code",
   "execution_count": 30,
   "metadata": {},
   "outputs": [],
   "source": [
    "train_df = pl.scan_csv(\"../data/train.csv\", schema=data_schema)\n",
    "test_df = pl.scan_csv(\"../data/test.csv\", schema=data_schema)"
   ]
  },
  {
   "cell_type": "code",
   "execution_count": 35,
   "metadata": {},
   "outputs": [],
   "source": [
    "full_df = pl.concat([train_df, test_df])  # NOTE: this is for analysis only"
   ]
  },
  {
   "cell_type": "code",
   "execution_count": 36,
   "metadata": {},
   "outputs": [
    {
     "data": {
      "text/html": [
       "<div><style>\n",
       ".dataframe > thead > tr,\n",
       ".dataframe > tbody > tr {\n",
       "  text-align: right;\n",
       "  white-space: pre-wrap;\n",
       "}\n",
       "</style>\n",
       "<small>shape: (5, 12)</small><table border=\"1\" class=\"dataframe\"><thead><tr><th>CustomerID</th><th>Age</th><th>Gender</th><th>Tenure</th><th>Usage Frequency</th><th>Support Calls</th><th>Payment Delay</th><th>Subscription Type</th><th>Contract Length</th><th>Total Spend</th><th>Last Interaction</th><th>Churn</th></tr><tr><td>i32</td><td>i32</td><td>str</td><td>i32</td><td>i32</td><td>i32</td><td>i32</td><td>str</td><td>str</td><td>f32</td><td>i32</td><td>i32</td></tr></thead><tbody><tr><td>2</td><td>30</td><td>&quot;Female&quot;</td><td>39</td><td>14</td><td>5</td><td>18</td><td>&quot;Standard&quot;</td><td>&quot;Annual&quot;</td><td>932.0</td><td>17</td><td>1</td></tr><tr><td>3</td><td>65</td><td>&quot;Female&quot;</td><td>49</td><td>1</td><td>10</td><td>8</td><td>&quot;Basic&quot;</td><td>&quot;Monthly&quot;</td><td>557.0</td><td>6</td><td>1</td></tr><tr><td>4</td><td>55</td><td>&quot;Female&quot;</td><td>14</td><td>4</td><td>6</td><td>18</td><td>&quot;Basic&quot;</td><td>&quot;Quarterly&quot;</td><td>185.0</td><td>3</td><td>1</td></tr><tr><td>5</td><td>58</td><td>&quot;Male&quot;</td><td>38</td><td>21</td><td>7</td><td>7</td><td>&quot;Standard&quot;</td><td>&quot;Monthly&quot;</td><td>396.0</td><td>29</td><td>1</td></tr><tr><td>6</td><td>23</td><td>&quot;Male&quot;</td><td>32</td><td>20</td><td>5</td><td>8</td><td>&quot;Basic&quot;</td><td>&quot;Monthly&quot;</td><td>617.0</td><td>20</td><td>1</td></tr></tbody></table></div>"
      ],
      "text/plain": [
       "shape: (5, 12)\n",
       "┌────────────┬─────┬────────┬────────┬───┬─────────────────┬─────────────┬─────────────┬───────┐\n",
       "│ CustomerID ┆ Age ┆ Gender ┆ Tenure ┆ … ┆ Contract Length ┆ Total Spend ┆ Last        ┆ Churn │\n",
       "│ ---        ┆ --- ┆ ---    ┆ ---    ┆   ┆ ---             ┆ ---         ┆ Interaction ┆ ---   │\n",
       "│ i32        ┆ i32 ┆ str    ┆ i32    ┆   ┆ str             ┆ f32         ┆ ---         ┆ i32   │\n",
       "│            ┆     ┆        ┆        ┆   ┆                 ┆             ┆ i32         ┆       │\n",
       "╞════════════╪═════╪════════╪════════╪═══╪═════════════════╪═════════════╪═════════════╪═══════╡\n",
       "│ 2          ┆ 30  ┆ Female ┆ 39     ┆ … ┆ Annual          ┆ 932.0       ┆ 17          ┆ 1     │\n",
       "│ 3          ┆ 65  ┆ Female ┆ 49     ┆ … ┆ Monthly         ┆ 557.0       ┆ 6           ┆ 1     │\n",
       "│ 4          ┆ 55  ┆ Female ┆ 14     ┆ … ┆ Quarterly       ┆ 185.0       ┆ 3           ┆ 1     │\n",
       "│ 5          ┆ 58  ┆ Male   ┆ 38     ┆ … ┆ Monthly         ┆ 396.0       ┆ 29          ┆ 1     │\n",
       "│ 6          ┆ 23  ┆ Male   ┆ 32     ┆ … ┆ Monthly         ┆ 617.0       ┆ 20          ┆ 1     │\n",
       "└────────────┴─────┴────────┴────────┴───┴─────────────────┴─────────────┴─────────────┴───────┘"
      ]
     },
     "execution_count": 36,
     "metadata": {},
     "output_type": "execute_result"
    }
   ],
   "source": [
    "full_df.collect().head()"
   ]
  },
  {
   "cell_type": "code",
   "execution_count": null,
   "metadata": {},
   "outputs": [],
   "source": []
  }
 ],
 "metadata": {
  "kernelspec": {
   "display_name": "dl-course",
   "language": "python",
   "name": "python3"
  },
  "language_info": {
   "codemirror_mode": {
    "name": "ipython",
    "version": 3
   },
   "file_extension": ".py",
   "mimetype": "text/x-python",
   "name": "python",
   "nbconvert_exporter": "python",
   "pygments_lexer": "ipython3",
   "version": "3.11.10"
  }
 },
 "nbformat": 4,
 "nbformat_minor": 2
}
